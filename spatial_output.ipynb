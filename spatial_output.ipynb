{
 "cells": [
  {
   "cell_type": "code",
   "execution_count": null,
   "id": "491d5675",
   "metadata": {},
   "outputs": [],
   "source": [
    "import os\n",
    "import numpy as np\n",
    "import pandas as pd\n",
    "import geopandas as gpd\n",
    "import matplotlib.pyplot as plt\n",
    "import matplotlib.colors as colors"
   ]
  },
  {
   "cell_type": "code",
   "execution_count": null,
   "id": "dea68b8b",
   "metadata": {},
   "outputs": [],
   "source": [
    "# Specify paths\n",
    "parcel_file_csv = \"Beaufort_parcels.csv\"\n",
    "parcel_file_shp = \"Data/Beaufort_final_8.shp\"\n",
    "results_path = \"Results/Baseline/\"  # Change this for different output files"
   ]
  },
  {
   "cell_type": "markdown",
   "id": "df7f46bc",
   "metadata": {},
   "source": [
    "### Buyers, sellers, transactions\n"
   ]
  },
  {
   "cell_type": "code",
   "execution_count": null,
   "id": "5fc75948",
   "metadata": {
    "scrolled": false
   },
   "outputs": [],
   "source": [
    "df_list = []\n",
    "i = 0\n",
    "for file in os.listdir(results_path):\n",
    "    if file.startswith(\"model\"):\n",
    "        model_df = pd.read_pickle(results_path + file)\n",
    "        model_df[\"Step\"] = model_df.index\n",
    "        model_df[\"Run\"] = i\n",
    "        df_list.append(model_df)\n",
    "        i += 1\n",
    "\n",
    "model_df = pd.concat(df_list)\n",
    "model_df"
   ]
  },
  {
   "cell_type": "code",
   "execution_count": null,
   "id": "3565ea51",
   "metadata": {
    "scrolled": false
   },
   "outputs": [],
   "source": [
    "%matplotlib inline\n",
    "model_df_mean = model_df.groupby([\"Step\"])[[\"Sellers\", \"Buyers\"]].mean()\n",
    "model_df_std = model_df.groupby([\"Step\"])[[\"Sellers\", \"Buyers\"]].std()\n",
    "\n",
    "model_df_mean.plot()\n",
    "for i, group in enumerate([\"Sellers\", \"Buyers\"]):\n",
    "    plt.fill_between(model_df_mean.index,\n",
    "                     (model_df_mean - model_df_std)[group],\n",
    "                     (model_df_mean + model_df_std)[group],\n",
    "                     color=plt.legend().legendHandles[i].get_color(),\n",
    "                     alpha=0.5)\n",
    "\n",
    "plt.ylabel(\"N agents\")\n",
    "plt.ylim(0, 1000)\n",
    "plt.show()"
   ]
  },
  {
   "cell_type": "markdown",
   "id": "1cb26e98",
   "metadata": {},
   "source": [
    "### Prices, incomes, transactions per flood zone"
   ]
  },
  {
   "cell_type": "code",
   "execution_count": null,
   "id": "3ac1df61",
   "metadata": {
    "scrolled": true
   },
   "outputs": [],
   "source": [
    "# Read spatial data\n",
    "spatial_df = gpd.read_file(parcel_file_shp)\n",
    "spatial_df = spatial_df.rename(columns={\"ID1\": \"Property ID\"}).set_index(\"Property ID\")\n",
    "\n",
    "# Redo original preprocessing for relevant parcel attributes\n",
    "spatial_df.loc[spatial_df[\"DFLOOD_A_1\"] == 1, \"FLOOD_PROB\"] = 0.01\n",
    "spatial_df.loc[spatial_df[\"DFLOOD_X_1\"] == 1, \"FLOOD_PROB\"] = 0.002\n",
    "spatial_df[\"FLOOD_PROB\"] = spatial_df[\"FLOOD_PROB\"].drop(columns=[\"DFLOOD_A_1\", \"DFLOOD_X_1\"])\n",
    "spatial_df[\"FLOOD_PROB\"] = spatial_df[\"FLOOD_PROB\"].fillna(0)\n",
    "\n",
    "# Disregard roads for visualization\n",
    "spatial_df = spatial_df.drop([2, 4, 153, 923, 966, 1042, 1283, 1290, 1492, 1710, 1808, 2241, 2313,\n",
    "                              2375, 2671, 2902, 3015, 3078, 3107, 3131, 3134, 3709, 3870, 4257, 4281, 5507])\n",
    "spatial_df"
   ]
  },
  {
   "cell_type": "code",
   "execution_count": null,
   "id": "080c2e8a",
   "metadata": {
    "scrolled": true
   },
   "outputs": [],
   "source": [
    "buyers_df_list = []\n",
    "owners_df_list = []\n",
    "i = 0\n",
    "for file in os.listdir(results_path):\n",
    "    if file.startswith(\"agent\"):\n",
    "        agent_df = pd.read_pickle(results_path + file)\n",
    "        buyers_df = agent_df[(agent_df[\"Type\"] == \"Household\") & (agent_df['Property ID'].isna())].copy()\n",
    "        buyers_df[\"Run\"] = i\n",
    "        buyers_df_list.append(buyers_df)\n",
    "        owners_df = agent_df[(agent_df[\"Type\"] == \"Household\") & (~agent_df['Property ID'].isna())].copy()\n",
    "        owners_df[\"Run\"] = i\n",
    "        owners_df_list.append(owners_df)\n",
    "        i += 1\n",
    "\n",
    "owners_df = pd.concat(owners_df_list)\n",
    "owners_df = owners_df.reset_index().set_index(\"Property ID\")\n",
    "owners_df[\"FLOOD_PROB\"] = spatial_df[\"FLOOD_PROB\"]\n",
    "owners_df[\"Year\"] = 0.5 * owners_df[\"Step\"]\n",
    "owners_df[\"geometry\"] = spatial_df[\"geometry\"]\n",
    "owners_df = gpd.GeoDataFrame(owners_df)\n",
    "owners_df = owners_df.reset_index().set_index([\"Year\", \"Run\", \"FLOOD_PROB\"])\n",
    "\n",
    "buyers_df = pd.concat(buyers_df_list).reset_index()\n",
    "buyers_df[\"Year\"] = 0.5 * buyers_df[\"Step\"]\n",
    "buyers_df = buyers_df.set_index([\"Year\", \"Run\"])\n",
    "\n",
    "owners_df"
   ]
  },
  {
   "cell_type": "markdown",
   "id": "aff8ffe6",
   "metadata": {},
   "source": [
    "#### Household incomes"
   ]
  },
  {
   "cell_type": "code",
   "execution_count": null,
   "id": "277ff6cb",
   "metadata": {
    "scrolled": false
   },
   "outputs": [],
   "source": [
    "# Buyers income\n",
    "buyers_mean = buyers_df[[\"Income\"]].groupby([\"Year\", \"Run\"]).mean().groupby(\"Year\").mean()\n",
    "buyers_std = buyers_df[[\"Income\"]].groupby([\"Year\", \"Run\"]).mean().groupby(\"Year\").std()\n",
    "\n",
    "# Owners income per flood zone\n",
    "owners_mean = owners_df[[\"Income\"]].groupby([\"Year\", \"Run\", \"FLOOD_PROB\"]).mean()[\"Income\"].groupby([\"Year\", \"FLOOD_PROB\"]).mean().unstack()\n",
    "owners_std = owners_df[[\"Income\"]].groupby([\"Year\", \"Run\", \"FLOOD_PROB\"]).mean()[\"Income\"].groupby([\"Year\", \"FLOOD_PROB\"]).std().unstack()\n",
    "\n",
    "# Plot average incomes + std\n",
    "fig, ax = plt.subplots()\n",
    "owners_mean.plot(ax=ax)\n",
    "for i, prob in enumerate([0, 0.002, 0.01]):\n",
    "    ax.fill_between(owners_mean.index,\n",
    "                    owners_mean[prob] - owners_std[prob],\n",
    "                    owners_mean[prob] + owners_std[prob],\n",
    "                    alpha=0.2, color=plt.legend().legendHandles[i].get_color())\n",
    "\n",
    "ax.plot(buyers_mean, label=\"Buyers\", color=\"tab:red\", ls=\"--\")\n",
    "ax.fill_between(buyers_mean.index,\n",
    "                (buyers_mean - buyers_std).values.flatten(),\n",
    "                (buyers_mean + buyers_std).values.flatten(),\n",
    "                alpha=0.2, color=\"tab:red\")\n",
    "\n",
    "plt.ticklabel_format(axis='y', scilimits=(0, 0))\n",
    "plt.ylim(3e4, 1e5)\n",
    "plt.ylabel(\"Average income (US Dollars)\")\n",
    "plt.title(\"Average income\")\n",
    "plt.legend(title=\"Flood zones\")\n",
    "plt.legend()\n",
    "plt.show()"
   ]
  },
  {
   "cell_type": "markdown",
   "id": "89ada0c3",
   "metadata": {},
   "source": [
    "#### Property prices"
   ]
  },
  {
   "cell_type": "code",
   "execution_count": null,
   "id": "41c02889",
   "metadata": {
    "scrolled": false
   },
   "outputs": [],
   "source": [
    "# Average property prices\n",
    "owners_mean = owners_df[[\"Property price\"]].groupby([\"Year\", \"Run\", \"FLOOD_PROB\"]).mean()[\"Property price\"].groupby([\"Year\", \"FLOOD_PROB\"]).mean().unstack()\n",
    "owners_std = owners_df[[\"Property price\"]].groupby([\"Year\", \"Run\", \"FLOOD_PROB\"]).mean()[\"Property price\"].groupby([\"Year\", \"FLOOD_PROB\"]).std().unstack()\n",
    "\n",
    "fig, ax = plt.subplots()\n",
    "owners_mean.plot(ax=ax)\n",
    "for i, prob in enumerate([0, 0.002, 0.01]):\n",
    "    ax.fill_between(owners_mean.index,\n",
    "                    owners_mean[prob] - owners_std[prob],\n",
    "                    owners_mean[prob] + owners_std[prob],\n",
    "                    alpha=0.2, color=plt.legend().legendHandles[i].get_color())\n",
    "\n",
    "plt.ticklabel_format(axis='y', scilimits=(0, 0))\n",
    "plt.ylim(1.5e5, 5e5)\n",
    "plt.ylabel(\"Average property price (US Dollars)\")\n",
    "plt.title(\"Average property price\")\n",
    "plt.legend(title=\"Flood zones\")\n",
    "plt.show()"
   ]
  },
  {
   "cell_type": "markdown",
   "id": "415d8e50",
   "metadata": {},
   "source": [
    "#### Transactions per flood zone"
   ]
  },
  {
   "cell_type": "code",
   "execution_count": null,
   "id": "fa65faec",
   "metadata": {
    "scrolled": false
   },
   "outputs": [],
   "source": [
    "trans_per_flood_df = model_df[[\"Transactions\", \"Run\"]].copy()\n",
    "trans_per_flood_df = trans_per_flood_df.drop(0).explode(\"Transactions\")\n",
    "trans_per_flood_df[\"Transactions\"] = pd.DataFrame(trans_per_flood_df[\"Transactions\"].apply(lambda x: x[\"Property ID\"]))\n",
    "trans_per_flood_df = trans_per_flood_df.reset_index().rename(columns={\"index\": \"Step\",\n",
    "                                                                      \"Transactions\": \"Property ID\"}).set_index(\"Property ID\")\n",
    "\n",
    "trans_per_flood_df = trans_per_flood_df.set_index([\"Run\"], append=True)\n",
    "trans_per_flood_df = pd.get_dummies(trans_per_flood_df[\"Step\"])\n",
    "trans_per_flood_df = trans_per_flood_df.groupby([\"Run\", \"Property ID\"]).sum()\n",
    "\n",
    "trans_per_flood_df = trans_per_flood_df.merge(spatial_df[[\"FLOOD_PROB\"]], left_index=True, right_index=True)\n",
    "trans_per_flood_df = trans_per_flood_df.groupby([\"FLOOD_PROB\", \"Run\"]).sum()\n",
    "trans_per_flood_df = trans_per_flood_df.transpose()\n",
    "trans_per_flood_df[0.01] = trans_per_flood_df[0.01]/944\n",
    "trans_per_flood_df[0.002] = trans_per_flood_df[0.002]/832\n",
    "trans_per_flood_df[0] = trans_per_flood_df[0]/1745\n",
    "\n",
    "# Get mean and std over runs\n",
    "trans_per_flood_df_mean = trans_per_flood_df.transpose().groupby(\"FLOOD_PROB\").mean()\n",
    "trans_per_flood_df_std = trans_per_flood_df.transpose().groupby(\"FLOOD_PROB\").std()\n",
    "trans_per_flood_df_std\n",
    "\n",
    "trans_per_flood_df_mean.transpose().plot()\n",
    "for i, prob in enumerate([0,  0.002, 0.01]):\n",
    "    plt.fill_between(list(trans_per_flood_df_mean.columns.values),\n",
    "                     trans_per_flood_df_mean.loc[prob] - trans_per_flood_df_std.loc[prob],\n",
    "                     trans_per_flood_df_mean.loc[prob] + trans_per_flood_df_std.loc[prob],\n",
    "                     alpha=0.2, color=plt.legend().legendHandles[i].get_color())\n",
    "\n",
    "plt.ylim(0, 0.15)\n",
    "plt.xlabel(\"Timesteps\")\n",
    "plt.ylabel(\"Average fraction of properties sold\")\n",
    "plt.legend(title=\"Flood zone\")\n",
    "plt.show()"
   ]
  },
  {
   "cell_type": "markdown",
   "id": "9231d179",
   "metadata": {},
   "source": [
    "### Regression coefficients\n"
   ]
  },
  {
   "cell_type": "code",
   "execution_count": null,
   "id": "bca87261",
   "metadata": {
    "scrolled": false
   },
   "outputs": [],
   "source": [
    "coefs_avg = model_df[\"Regression coefs\"].groupby(model_df[\"Step\"]).mean()\n",
    "coefs_std = model_df[[\"Regression coefs\"]].stack().groupby(level=0).apply(lambda x:\n",
    "                                                                          np.round(np.array(x).std(), 4))\n",
    "\n",
    "coefs_avg = pd.DataFrame(coefs_avg.values.tolist())\n",
    "coefs_std = pd.DataFrame(coefs_std.values.tolist())\n",
    "\n",
    "coefs_avg[0].plot(label=\"Intercept\")\n",
    "plt.fill_between(coefs_avg.index,\n",
    "                 coefs_avg[0] - coefs_std[0],\n",
    "                 coefs_avg[0] + coefs_std[0],\n",
    "                 alpha=0.5)\n",
    "# plt.ylim(10, 12)\n",
    "plt.legend()\n",
    "plt.show()\n",
    "\n",
    "plt.rcParams[\"axes.prop_cycle\"] = plt.cycler(\"color\", plt.cm.tab10.colors)\n",
    "labels=[\"Bathroom\", \"Bathroom^2\",\n",
    "        \"Age\", \"Age^2\",\n",
    "        \"House size\", \"House size^2\",\n",
    "        \"Lot size\", \"Lot size^2\",\n",
    "        \"New home\", \"Post firm\", \"100 flood zone\", \"500 flood zone\", \"Coastal front\",\n",
    "        \"Distance amen\", \"Distance CBD\", \"Distance highway\", \"Distance park\"\n",
    "       ]\n",
    "coefs_avg = coefs_avg.drop(columns=0)\n",
    "coefs_std = coefs_std.drop(columns=0)\n",
    "for coef in coefs_avg.columns:\n",
    "    plt.plot(coefs_avg[coef], label=labels[coef-1])\n",
    "for coef in coefs_avg.columns:\n",
    "    plt.fill_between(coefs_avg.index,\n",
    "                     coefs_avg[coef] - coefs_std[coef],\n",
    "                     coefs_avg[coef] + coefs_std[coef],\n",
    "                     alpha=0.5)\n",
    "plt.ylim(-0.5, 0.5)\n",
    "plt.legend(loc=(0.98, 0))\n",
    "plt.show()"
   ]
  },
  {
   "cell_type": "markdown",
   "id": "e34f9375",
   "metadata": {},
   "source": [
    "### Variables per agent/property\n"
   ]
  },
  {
   "cell_type": "code",
   "execution_count": null,
   "id": "94f670fe",
   "metadata": {
    "scrolled": true
   },
   "outputs": [],
   "source": [
    "property_df_list = []\n",
    "i = 0\n",
    "for file in os.listdir(results_path):\n",
    "    if file.startswith(\"agent\"):\n",
    "        agent_df = pd.read_pickle(results_path + file)\n",
    "        property_df = agent_df[(agent_df[\"Type\"] == \"Household\") & (~agent_df['Property ID'].isna())].copy()\n",
    "        property_df[\"Run\"] = i\n",
    "        property_df_list.append(property_df)\n",
    "        i += 1\n",
    "\n",
    "# Add flood zones\n",
    "property_df = pd.concat(property_df_list)\n",
    "property_df = property_df.reset_index().set_index(\"Property ID\")\n",
    "property_df[\"FLOOD_PROB\"] = spatial_df[\"FLOOD_PROB\"]\n",
    "property_df[\"Year\"] = 0.5 * property_df[\"Step\"]\n",
    "property_df[\"geometry\"] = spatial_df[\"geometry\"]\n",
    "property_df = gpd.GeoDataFrame(property_df)\n",
    "property_df = property_df.reset_index().set_index([\"Run\", \"Step\", \"Property ID\"])\n",
    "property_df"
   ]
  },
  {
   "cell_type": "code",
   "execution_count": null,
   "id": "0e7ba3c7",
   "metadata": {
    "scrolled": true
   },
   "outputs": [],
   "source": [
    "# Add price changes per property\n",
    "price_gradients = property_df.sort_values([\"Run\", \"Property ID\"])[\"Property price\"].diff()\n",
    "property_df[\"Price change\"] = price_gradients\n",
    "property_df = property_df.reset_index().set_index(\"Property ID\")\n",
    "property_df.loc[property_df[\"Step\"] == 0, [\"Price change\"]] = 0\n",
    "property_df"
   ]
  },
  {
   "cell_type": "code",
   "execution_count": null,
   "id": "49d931eb",
   "metadata": {
    "scrolled": true
   },
   "outputs": [],
   "source": [
    "# # Add cumulative price changes\n",
    "property_df = property_df.sort_values([\"Run\", \"Property ID\"])\n",
    "prices = property_df.groupby([\"Run\", \"Property ID\"])[\"Price change\"]\n",
    "property_df[\"Cumulative price change\"] = prices.cumsum()\n",
    "property_df = property_df.reset_index().set_index(\"Property ID\")\n",
    "property_df"
   ]
  },
  {
   "cell_type": "code",
   "execution_count": null,
   "id": "9e5624a3",
   "metadata": {},
   "outputs": [],
   "source": [
    "def plot_beaufort(variable, year, logscale=False, divergent=False, save=False):\n",
    "    fig, ax = plt.subplots(figsize=(8,8))\n",
    "    ax.axis(\"off\")\n",
    "\n",
    "    # Plot parcels\n",
    "    spatial_df[spatial_df[\"CITY\"] != \"Water\"].plot(ax=ax,\n",
    "                                                   color=\"green\", alpha=0.4)\n",
    "    spatial_df[spatial_df[\"CITY\"] == \"Water\"].plot(ax=ax,\n",
    "                                                   color=\"lightblue\", alpha=0.7)\n",
    "\n",
    "    # Plot variable of interest (averaged over runs)\n",
    "    df = gpd.GeoDataFrame(property_df[property_df[\"Year\"] == year].groupby([\"Property ID\"])[[variable]].mean())\n",
    "    df[\"geometry\"] = property_df[(property_df[\"Run\"] == 0) & (property_df[\"Year\"] == year)][\"geometry\"]\n",
    "    if logscale:\n",
    "        df.plot(variable, ax=ax,\n",
    "                cmap=\"Reds\",\n",
    "                legend=True, legend_kwds={\"shrink\": 0.3, \"label\": variable},\n",
    "#                 norm=colors.LogNorm(vmin=property_df[variable].min(),\n",
    "#                                     vmax=property_df[variable].max()),\n",
    "                norm=colors.LogNorm(vmin=1e5, vmax=1e7)\n",
    "                )\n",
    "    elif divergent:\n",
    "        df.plot(variable, ax=ax,\n",
    "                cmap=\"PuOr\",\n",
    "                legend=True, legend_kwds={\"shrink\": 0.3, \"label\": variable},\n",
    "#                 vmin=-property_df[variable].max(),\n",
    "#                 vmax=property_df[variable].max()\n",
    "                vmin=-1e5,\n",
    "#                 vcenter=0,\n",
    "                vmax=1e5\n",
    "               )\n",
    "    else:\n",
    "        df.plot(variable, ax=ax,\n",
    "                cmap=\"Reds\",\n",
    "                legend=True, legend_kwds={\"shrink\": 0.3, \"label\": variable},\n",
    "#                 vmin=-property_df[variable].max(),\n",
    "#                 vmax=property_df[variable].max()\n",
    "                vmin=1e2,\n",
    "                vmax=1e5\n",
    "               )\n",
    "\n",
    "    # Plot flood zones\n",
    "    flood_df = spatial_df.copy()\n",
    "    flood_df[\"FLOOD_PROB\"] = flood_df[\"FLOOD_PROB\"].replace({0: np.nan})\n",
    "    flood_df.plot(\"FLOOD_PROB\", ax=ax,\n",
    "                   categorical=True,\n",
    "                   legend=True, legend_kwds={\"title\": \"Flood probability\"},\n",
    "                   cmap=\"Blues\",\n",
    "                   norm=colors.TwoSlopeNorm(vmin=-1, vcenter=0, vmax=1.5),\n",
    "                   alpha=0.5,\n",
    "                   hatch=r\"\\\\\", edgecolor=\"tab:blue\",\n",
    "                   linewidth=0\n",
    "                  )\n",
    "    \n",
    "    # Plot settings\n",
    "    for ax in fig.axes:\n",
    "        ax.tick_params(labelsize=8)\n",
    "    plt.tight_layout()\n",
    "    if save:\n",
    "        plt.savefig(\"Figures/temp/Beaufort_\" + variable + \"_\" + str(year) + \".png\",\n",
    "                    dpi=300)\n",
    "        plt.close()\n",
    "    else:\n",
    "        plt.show()"
   ]
  },
  {
   "cell_type": "markdown",
   "id": "6be13b76",
   "metadata": {},
   "source": [
    "### Property prices"
   ]
  },
  {
   "cell_type": "code",
   "execution_count": null,
   "id": "bb0debc6",
   "metadata": {
    "scrolled": false
   },
   "outputs": [],
   "source": [
    "# %matplotlib notebook\n",
    "# plot_beaufort(variable=\"Property price\", year=0, logscale=True)\n",
    "# plot_beaufort(variable=\"Property price\", year=50, logscale=True)"
   ]
  },
  {
   "cell_type": "markdown",
   "id": "3a79a21f",
   "metadata": {},
   "source": [
    "### Price changes"
   ]
  },
  {
   "cell_type": "code",
   "execution_count": null,
   "id": "81e0a9dc",
   "metadata": {
    "scrolled": false
   },
   "outputs": [],
   "source": [
    "# %matplotlib notebook\n",
    "# plot_beaufort(variable=\"Price change\", year=1)\n",
    "# plot_beaufort(variable=\"Price change\", year=50)"
   ]
  },
  {
   "cell_type": "markdown",
   "id": "0cd98660",
   "metadata": {},
   "source": [
    "### Cumulative price changes"
   ]
  },
  {
   "cell_type": "code",
   "execution_count": null,
   "id": "bfb423c1",
   "metadata": {
    "scrolled": false
   },
   "outputs": [],
   "source": [
    "%matplotlib notebook\n",
    "plot_beaufort(variable=\"Cumulative price change\", year=25, divergent=True)\n",
    "plot_beaufort(variable=\"Cumulative price change\", year=50, divergent=True)"
   ]
  },
  {
   "cell_type": "markdown",
   "id": "b11b9982",
   "metadata": {},
   "source": [
    "### Household income"
   ]
  },
  {
   "cell_type": "code",
   "execution_count": null,
   "id": "7bf71dea",
   "metadata": {
    "scrolled": false
   },
   "outputs": [],
   "source": [
    "%matplotlib notebook\n",
    "plot_beaufort(variable=\"Income\", year=0, logscale=False)\n",
    "plot_beaufort(variable=\"Income\", year=50, logscale=False)"
   ]
  },
  {
   "cell_type": "code",
   "execution_count": null,
   "id": "ed6c2a76",
   "metadata": {
    "scrolled": true
   },
   "outputs": [],
   "source": [
    "%matplotlib inline\n",
    "for year in np.arange(0.5, 10, 1):\n",
    "    plot_beaufort(variable=\"Income\", year=year, logscale=False, save=True)"
   ]
  },
  {
   "cell_type": "markdown",
   "id": "c00adbac",
   "metadata": {},
   "source": [
    "### Amenities\n"
   ]
  },
  {
   "cell_type": "code",
   "execution_count": 19,
   "id": "fd411a92",
   "metadata": {},
   "outputs": [],
   "source": [
    "parcel_df = pd.read_csv(parcel_file_csv)\n",
    "parcel_df = parcel_df.rename(columns={\"ID1\": \"Property ID\"}).set_index(\"Property ID\")"
   ]
  },
  {
   "cell_type": "code",
   "execution_count": 20,
   "id": "d5feb85a",
   "metadata": {},
   "outputs": [
    {
     "ename": "NameError",
     "evalue": "name 'property_df' is not defined",
     "output_type": "error",
     "traceback": [
      "\u001b[0;31m---------------------------------------------------------------------------\u001b[0m",
      "\u001b[0;31mNameError\u001b[0m                                 Traceback (most recent call last)",
      "Cell \u001b[0;32mIn[20], line 1\u001b[0m\n\u001b[0;32m----> 1\u001b[0m temp \u001b[38;5;241m=\u001b[39m spatial_df[spatial_df\u001b[38;5;241m.\u001b[39mindex\u001b[38;5;241m.\u001b[39misin(\u001b[43mproperty_df\u001b[49m\u001b[38;5;241m.\u001b[39mindex)]\u001b[38;5;241m.\u001b[39mcopy()\n\u001b[1;32m      2\u001b[0m temp[\u001b[38;5;124m\"\u001b[39m\u001b[38;5;124mPROXAMEN_1\u001b[39m\u001b[38;5;124m\"\u001b[39m] \u001b[38;5;241m=\u001b[39m parcel_df[\u001b[38;5;124m\"\u001b[39m\u001b[38;5;124mPROXAMEN_1\u001b[39m\u001b[38;5;124m\"\u001b[39m]\n\u001b[1;32m      3\u001b[0m \u001b[38;5;28mprint\u001b[39m(\u001b[38;5;124m\"\u001b[39m\u001b[38;5;124mProximity coastal amenities not in flood zone:\u001b[39m\u001b[38;5;124m\"\u001b[39m, temp[(temp[\u001b[38;5;124m\"\u001b[39m\u001b[38;5;124mDFLOOD_X_1\u001b[39m\u001b[38;5;124m\"\u001b[39m] \u001b[38;5;241m==\u001b[39m \u001b[38;5;241m0\u001b[39m) \u001b[38;5;241m&\u001b[39m\n\u001b[1;32m      4\u001b[0m                                                              (temp[\u001b[38;5;124m\"\u001b[39m\u001b[38;5;124mDFLOOD_A_1\u001b[39m\u001b[38;5;124m\"\u001b[39m] \u001b[38;5;241m==\u001b[39m \u001b[38;5;241m0\u001b[39m)][\u001b[38;5;124m\"\u001b[39m\u001b[38;5;124mPROXAMEN_1\u001b[39m\u001b[38;5;124m\"\u001b[39m]\u001b[38;5;241m.\u001b[39mmean())\n",
      "\u001b[0;31mNameError\u001b[0m: name 'property_df' is not defined"
     ]
    }
   ],
   "source": [
    "temp = spatial_df[spatial_df.index.isin(property_df.index)].copy()\n",
    "temp[\"PROXAMEN_1\"] = parcel_df[\"PROXAMEN_1\"]\n",
    "print(\"Proximity coastal amenities not in flood zone:\", temp[(temp[\"DFLOOD_X_1\"] == 0) &\n",
    "                                                             (temp[\"DFLOOD_A_1\"] == 0)][\"PROXAMEN_1\"].mean())\n",
    "print(\"Proximity coastal amenities for 500 flood zone:\", temp[temp[\"DFLOOD_X_1\"] == 1][\"PROXAMEN_1\"].mean())\n",
    "print(\"Proximity coastal amenities for 100 flood zone:\", temp[temp[\"DFLOOD_A_1\"] == 1][\"PROXAMEN_1\"].mean())"
   ]
  },
  {
   "cell_type": "code",
   "execution_count": null,
   "id": "d48a4daf",
   "metadata": {
    "scrolled": false
   },
   "outputs": [],
   "source": [
    "%matplotlib inline\n",
    "\n",
    "fig, ax = plt.subplots(figsize=(8,8))\n",
    "ax.axis(\"off\")\n",
    "\n",
    "# Plot parcels\n",
    "spatial_df[spatial_df[\"CITY\"] != \"Water\"].plot(ax=ax,\n",
    "                                               color=\"green\", alpha=0.4)\n",
    "spatial_df[spatial_df[\"CITY\"] == \"Water\"].plot(ax=ax,\n",
    "                                               color=\"lightblue\", alpha=0.7)\n",
    "\n",
    "# Plot distance to coastal amenities\n",
    "temp = spatial_df[spatial_df.index.isin(property_df.index)].copy()\n",
    "temp[\"PROXAMEN_1\"] = parcel_df[\"PROXAMEN_1\"]\n",
    "temp.plot(\"PROXAMEN_1\", ax=ax, cmap=\"Purples\",\n",
    "          legend=True, legend_kwds={\"shrink\": 0.3, \"label\": \"Proximity coastal amenities\"})\n",
    "\n",
    "# Plot settings\n",
    "for ax in fig.axes:\n",
    "    ax.tick_params(labelsize=8)\n",
    "plt.tight_layout()\n",
    "plt.show()"
   ]
  },
  {
   "cell_type": "markdown",
   "id": "1ea4b1f3",
   "metadata": {},
   "source": [
    "### Transactions, spatially"
   ]
  },
  {
   "cell_type": "code",
   "execution_count": null,
   "id": "7baeb683",
   "metadata": {
    "scrolled": false
   },
   "outputs": [],
   "source": [
    "# for run in set(model_df[\"Run\"].values):\n",
    "#     model_df_run = model_df[model_df[\"Run\"] == run]\n",
    "#     for step in set(model_df_run[\"Step\"].values):\n",
    "#         model_df_step = model_df_run[model_df_run[\"Step\"] == step]\n",
    "#         for transactions in model_df_step[\"Transactions\"]:\n",
    "#             sold_props = {}\n",
    "#             for transaction in transactions:\n",
    "#                 sold_props[transaction[\"Property ID\"]] = 1\n",
    "#                 print(pd.DataFrame)"
   ]
  }
 ],
 "metadata": {
  "kernelspec": {
   "display_name": "Python 3 (ipykernel)",
   "language": "python",
   "name": "python3"
  },
  "language_info": {
   "codemirror_mode": {
    "name": "ipython",
    "version": 3
   },
   "file_extension": ".py",
   "mimetype": "text/x-python",
   "name": "python",
   "nbconvert_exporter": "python",
   "pygments_lexer": "ipython3",
   "version": "3.10.9"
  }
 },
 "nbformat": 4,
 "nbformat_minor": 5
}
